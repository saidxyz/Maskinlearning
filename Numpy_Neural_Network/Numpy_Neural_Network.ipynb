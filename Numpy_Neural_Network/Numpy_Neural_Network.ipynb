{
 "cells": [
  {
   "cell_type": "code",
   "execution_count": 2,
   "metadata": {},
   "outputs": [],
   "source": [
    "import numpy as np\n",
    "from tabulate import tabulate\n",
    "np.random.seed(1)"
   ]
  },
  {
   "cell_type": "code",
   "execution_count": 3,
   "metadata": {},
   "outputs": [],
   "source": [
    "def relu(x):\n",
    "    return (x > 0) * x \n",
    "\n",
    "def relu_grad(x):\n",
    "    return x > 0"
   ]
  },
  {
   "cell_type": "code",
   "execution_count": 4,
   "metadata": {},
   "outputs": [],
   "source": [
    "streetlights = np.array([[1,0,1], \n",
    "                         [0,1,1], \n",
    "                         [0,0,1], \n",
    "                         [1,1,1], \n",
    "                         [0,1,1], \n",
    "                         [1,0,1]])"
   ]
  },
  {
   "cell_type": "code",
   "execution_count": 5,
   "metadata": {},
   "outputs": [],
   "source": [
    "walk_vs_stop = np.array([[0], [1], [0], [1], [1], [0]])"
   ]
  },
  {
   "cell_type": "code",
   "execution_count": 6,
   "metadata": {},
   "outputs": [],
   "source": [
    "X,y = streetlights, walk_vs_stop"
   ]
  },
  {
   "cell_type": "code",
   "execution_count": 7,
   "metadata": {},
   "outputs": [],
   "source": [
    "hidden_nodes = 8"
   ]
  },
  {
   "cell_type": "code",
   "execution_count": 8,
   "metadata": {},
   "outputs": [],
   "source": [
    "epochs = 100  # number of iterations to go through the network\n",
    "\n",
    "lr = 0.01      # how much we change the weights of the network each iteration"
   ]
  },
  {
   "cell_type": "code",
   "execution_count": 9,
   "metadata": {},
   "outputs": [],
   "source": [
    "ws_1 = np.random.rand(X.shape[1], hidden_nodes) - 0.5\n",
    "ws_2 = np.random.rand(hidden_nodes, y.shape[1]) - 0.5"
   ]
  },
  {
   "cell_type": "code",
   "execution_count": 10,
   "metadata": {},
   "outputs": [
    {
     "name": "stdout",
     "output_type": "stream",
     "text": [
      "0.019479\n",
      "0.046095\n",
      "0.062677\n",
      "0.061989\n",
      "0.052434\n",
      "0.041336\n",
      "0.031658\n",
      "0.024053\n",
      "0.018328\n",
      "0.01518\n"
     ]
    }
   ],
   "source": [
    "for epoch in range(epochs):     #number of training iterations, or times to change the weights of the nn\n",
    "    for i in range(X.shape[0]): #for all samples in X, each streetlight\n",
    "        layer_in = X[i:i+1]\n",
    "        \n",
    "        #forward pass/prediction\n",
    "        layer_1 = relu(layer_in.dot(ws_1))\n",
    "        \n",
    "        layer_out = layer_1.dot(ws_2)\n",
    "        \n",
    "        #calc error/distance (how far are we from goal)\n",
    "        delta_2 = layer_out - y[i:i+1]\n",
    "        \n",
    "        #calc the the error each node in prev layer contributed\n",
    "        delta_1 = delta_2.dot(ws_2.T) * relu_grad(layer_1)\n",
    "        \n",
    "        #update weights\n",
    "        ws_2 -= lr * (layer_1.T.reshape(hidden_nodes,1).dot(delta_2))\n",
    "        ws_1 -= lr * (layer_in.T.reshape(X.shape[1],1).dot(delta_1))\n",
    "    \n",
    "    if epoch % 10 == 0:\n",
    "        error = delta_2**2\n",
    "        print(round(error[0][0],6))#, end='\\r')"
   ]
  },
  {
   "cell_type": "markdown",
   "metadata": {},
   "source": [
    "Task 1: Replace the activation function with the Sigmoid function"
   ]
  },
  {
   "cell_type": "code",
   "execution_count": 11,
   "metadata": {},
   "outputs": [],
   "source": [
    "def Sigmoid(x):\n",
    "    # Convert Input to a NumPy Array\n",
    "    x = np.array(x)\n",
    "    # Initialize an Empty Array for Sigmoid Outputs\n",
    "    Sigmoid = np.empty_like(x, dtype=np.float64)\n",
    "    \n",
    "    # Create masks for positive and negative values\n",
    "    positive = x >= 0\n",
    "    negative = x < 0\n",
    "\n",
    "    # Compute sigmoid for positive values\n",
    "    Sigmoid[positive] = 1 / (1 + np.exp(-x[positive]))\n",
    "\n",
    "    # Compute sigmoid for negative values to prevent overflow\n",
    "    Sigmoid[negative] = np.exp(x[negative]) / (1 + np.exp(x[negative]))\n",
    "\n",
    "    return Sigmoid\n",
    "\n",
    "def Sigmoid_grad(x):\n",
    "    return np.exp(-x)/pow((1 + np.exp(-x)),2)"
   ]
  },
  {
   "cell_type": "code",
   "execution_count": 12,
   "metadata": {},
   "outputs": [
    {
     "name": "stdout",
     "output_type": "stream",
     "text": [
      "0.039486\n",
      "0.129486\n",
      "0.158598\n",
      "0.161098\n",
      "0.155551\n",
      "0.147852\n",
      "0.139694\n",
      "0.131555\n",
      "0.123576\n",
      "0.115803\n"
     ]
    }
   ],
   "source": [
    "for epoch in range(epochs): #number of training iterations, or times to change the weights of the nn\n",
    "    for i in range(X.shape[0]): #for all samples in X, each streetlight\n",
    "        layer_in = X[i:i+1]\n",
    "        \n",
    "        #forward pass/prediction\n",
    "        layer_1 = Sigmoid(layer_in.dot(ws_1))\n",
    "        \n",
    "        layer_out = layer_1.dot(ws_2)\n",
    "        \n",
    "        #calc error/distance (how far are we from goal)\n",
    "        delta_2 = layer_out - y[i:i+1]\n",
    "        \n",
    "        #calc the the error each node in prev layer contributed\n",
    "        delta_1 = delta_2.dot(ws_2.T) * Sigmoid_grad(layer_1)\n",
    "        \n",
    "        #update weights\n",
    "        ws_2 -= lr * (layer_1.T.reshape(hidden_nodes,1).dot(delta_2))\n",
    "        ws_1 -= lr * (layer_in.T.reshape(X.shape[1],1).dot(delta_1))\n",
    "    \n",
    "    if epoch % 10 == 0:\n",
    "        error = delta_2**2\n",
    "        print(round(error[0][0],6))#, end='\\r')"
   ]
  },
  {
   "cell_type": "markdown",
   "metadata": {},
   "source": [
    "Switching from ReLU to Sigmoid limited outputs to between 0 and 1 and slowed training due to smaller gradients. ReLU provided more varied outputs and faster convergence. This highlights how the activation function choice affects both the network’s behavior and training efficiency. The sigmoid function maps input values to an output ranged between 0 and 1. For very large positive or negative inputs, the function saturates, meaning the output approaches 1 or 0 asymptotically."
   ]
  },
  {
   "cell_type": "markdown",
   "metadata": {},
   "source": [
    "Task 2: learning rate: [0.001, 0.01, 0.1, 1, 10]"
   ]
  },
  {
   "cell_type": "code",
   "execution_count": 13,
   "metadata": {},
   "outputs": [
    {
     "name": "stdout",
     "output_type": "stream",
     "text": [
      "+--------------------+-------------------+------------------+----------------+-----------------+\n",
      "|   lr 0.001 results |   lr 0.01 results |   lr 0.1 results |   lr 1 results |   lr 10 results |\n",
      "+====================+===================+==================+================+=================+\n",
      "|           0.029294 |          0.151207 |         0.34972  |       0.085761 |        0.536373 |\n",
      "+--------------------+-------------------+------------------+----------------+-----------------+\n",
      "|           0.038451 |          0.125369 |         0.152473 |       0.116792 |        0.536373 |\n",
      "+--------------------+-------------------+------------------+----------------+-----------------+\n",
      "|           0.047498 |          0.119752 |         0.158513 |       0.122696 |        0.536373 |\n",
      "+--------------------+-------------------+------------------+----------------+-----------------+\n",
      "|           0.056238 |          0.119213 |         0.162423 |       0.124186 |        0.536373 |\n",
      "+--------------------+-------------------+------------------+----------------+-----------------+\n",
      "|           0.064546 |          0.119722 |         0.164665 |       0.125056 |        0.536373 |\n",
      "+--------------------+-------------------+------------------+----------------+-----------------+\n",
      "|           0.072349 |          0.120387 |         0.165651 |       0.12588  |        0.536373 |\n",
      "+--------------------+-------------------+------------------+----------------+-----------------+\n",
      "|           0.079608 |          0.12105  |         0.165736 |       0.12662  |        0.536373 |\n",
      "+--------------------+-------------------+------------------+----------------+-----------------+\n",
      "|           0.086311 |          0.121693 |         0.165213 |       0.127169 |        0.536373 |\n",
      "+--------------------+-------------------+------------------+----------------+-----------------+\n",
      "|           0.09246  |          0.122318 |         0.164308 |       0.127551 |        0.536373 |\n",
      "+--------------------+-------------------+------------------+----------------+-----------------+\n",
      "|           0.098072 |          0.122931 |         0.163188 |       0.127842 |        0.536373 |\n",
      "+--------------------+-------------------+------------------+----------------+-----------------+\n"
     ]
    }
   ],
   "source": [
    "learning_rates = [0.001, 0.01, 0.1, 1, 10]\n",
    "x = np.random.rand(100,10)\n",
    "y = np.random.rand(100,5)\n",
    "hidden_node = 8\n",
    "\n",
    "def best_learning_rate(epochs, X, y, learning_rates, hidden_nodes):\n",
    "    errors = [[],[],[],[],[]]\n",
    "\n",
    "    for lr in range(len(learning_rates)):\n",
    "        ws_1 = np.random.rand(X.shape[1], hidden_nodes) - 0.5\n",
    "        ws_2 = np.random.rand(hidden_nodes, y.shape[1]) - 0.5\n",
    "        for epoch in range(epochs):     #number of training iterations, or times to change the weights of the nn\n",
    "            for i in range(X.shape[0]): #for all samples in X, each streetlight\n",
    "                layer_in = X[i:i+1]\n",
    "                \n",
    "                #forward pass/prediction\n",
    "                layer_1 = Sigmoid(layer_in.dot(ws_1))\n",
    "                \n",
    "                layer_out = layer_1.dot(ws_2)\n",
    "                \n",
    "                #calc error/distance (how far are we from goal)\n",
    "                delta_2 = layer_out - y[i:i+1]\n",
    "                \n",
    "                #calc the the error each node in prev layer contributed\n",
    "                delta_1 = delta_2.dot(ws_2.T) * Sigmoid_grad(layer_1)\n",
    "                \n",
    "                #update weights\n",
    "                ws_2 -= learning_rates[lr] * (layer_1.T.reshape(hidden_nodes,1).dot(delta_2))\n",
    "                ws_1 -= learning_rates[lr] * (layer_in.T.reshape(X.shape[1],1).dot(delta_1))\n",
    "            \n",
    "            if epoch % 10 == 0:\n",
    "                error = delta_2**2\n",
    "                errors[lr].append(float(round(error[0][0],6)))\n",
    "\n",
    "    transposed_errors = list(zip(*errors))\n",
    "\n",
    "    # Prepare Headers\n",
    "    headers = [f\"lr {lr} results\" for lr in learning_rates]\n",
    "\n",
    "    # Generate Table Data\n",
    "    table = transposed_errors\n",
    "\n",
    "    # Print the Table\n",
    "    print(tabulate(table, headers=headers, tablefmt=\"grid\"))\n",
    "        \n",
    "# Run the function\n",
    "best_learning_rate(epochs, X, y, learning_rates, hidden_nodes)"
   ]
  },
  {
   "cell_type": "markdown",
   "metadata": {},
   "source": [
    "Task 3: Add another “hidden” layer"
   ]
  },
  {
   "cell_type": "code",
   "execution_count": 14,
   "metadata": {},
   "outputs": [
    {
     "name": "stdout",
     "output_type": "stream",
     "text": [
      "Epoch 0: Error 0.170505\n",
      "Epoch 10: Error 0.173425\n",
      "Epoch 20: Error 0.176280\n",
      "Epoch 30: Error 0.179096\n",
      "Epoch 40: Error 0.181887\n",
      "Epoch 50: Error 0.184659\n",
      "Epoch 60: Error 0.187413\n",
      "Epoch 70: Error 0.190147\n",
      "Epoch 80: Error 0.192855\n",
      "Epoch 90: Error 0.195530\n",
      "Epoch 100: Error 0.198161\n",
      "Epoch 110: Error 0.200733\n",
      "Epoch 120: Error 0.203233\n",
      "Epoch 130: Error 0.205644\n",
      "Epoch 140: Error 0.207948\n",
      "Epoch 150: Error 0.210129\n",
      "Epoch 160: Error 0.212174\n",
      "Epoch 170: Error 0.214071\n",
      "Epoch 180: Error 0.215814\n",
      "Epoch 190: Error 0.217397\n",
      "Epoch 200: Error 0.218823\n",
      "Epoch 210: Error 0.220095\n",
      "Epoch 220: Error 0.221220\n",
      "Epoch 230: Error 0.222207\n",
      "Epoch 240: Error 0.223068\n",
      "Epoch 250: Error 0.223814\n",
      "Epoch 260: Error 0.224458\n",
      "Epoch 270: Error 0.225010\n",
      "Epoch 280: Error 0.225482\n",
      "Epoch 290: Error 0.225884\n",
      "Epoch 300: Error 0.226225\n",
      "Epoch 310: Error 0.226514\n",
      "Epoch 320: Error 0.226757\n",
      "Epoch 330: Error 0.226962\n",
      "Epoch 340: Error 0.227133\n",
      "Epoch 350: Error 0.227276\n",
      "Epoch 360: Error 0.227394\n",
      "Epoch 370: Error 0.227492\n",
      "Epoch 380: Error 0.227571\n",
      "Epoch 390: Error 0.227635\n",
      "Epoch 400: Error 0.227685\n",
      "Epoch 410: Error 0.227724\n",
      "Epoch 420: Error 0.227754\n",
      "Epoch 430: Error 0.227775\n",
      "Epoch 440: Error 0.227789\n",
      "Epoch 450: Error 0.227797\n",
      "Epoch 460: Error 0.227799\n",
      "Epoch 470: Error 0.227798\n",
      "Epoch 480: Error 0.227792\n",
      "Epoch 490: Error 0.227783\n",
      "Epoch 500: Error 0.227772\n",
      "Epoch 510: Error 0.227758\n",
      "Epoch 520: Error 0.227743\n",
      "Epoch 530: Error 0.227726\n",
      "Epoch 540: Error 0.227707\n",
      "Epoch 550: Error 0.227688\n",
      "Epoch 560: Error 0.227668\n",
      "Epoch 570: Error 0.227647\n",
      "Epoch 580: Error 0.227626\n",
      "Epoch 590: Error 0.227604\n",
      "Epoch 600: Error 0.227583\n",
      "Epoch 610: Error 0.227561\n",
      "Epoch 620: Error 0.227540\n",
      "Epoch 630: Error 0.227518\n",
      "Epoch 640: Error 0.227497\n",
      "Epoch 650: Error 0.227476\n",
      "Epoch 660: Error 0.227455\n",
      "Epoch 670: Error 0.227435\n",
      "Epoch 680: Error 0.227415\n",
      "Epoch 690: Error 0.227395\n",
      "Epoch 700: Error 0.227376\n",
      "Epoch 710: Error 0.227357\n",
      "Epoch 720: Error 0.227339\n",
      "Epoch 730: Error 0.227321\n",
      "Epoch 740: Error 0.227304\n",
      "Epoch 750: Error 0.227287\n",
      "Epoch 760: Error 0.227271\n",
      "Epoch 770: Error 0.227255\n",
      "Epoch 780: Error 0.227239\n",
      "Epoch 790: Error 0.227224\n",
      "Epoch 800: Error 0.227210\n",
      "Epoch 810: Error 0.227196\n",
      "Epoch 820: Error 0.227182\n",
      "Epoch 830: Error 0.227169\n",
      "Epoch 840: Error 0.227156\n",
      "Epoch 850: Error 0.227144\n",
      "Epoch 860: Error 0.227132\n",
      "Epoch 870: Error 0.227121\n",
      "Epoch 880: Error 0.227110\n",
      "Epoch 890: Error 0.227099\n",
      "Epoch 900: Error 0.227089\n",
      "Epoch 910: Error 0.227079\n",
      "Epoch 920: Error 0.227069\n",
      "Epoch 930: Error 0.227060\n",
      "Epoch 940: Error 0.227051\n",
      "Epoch 950: Error 0.227042\n",
      "Epoch 960: Error 0.227034\n",
      "Epoch 970: Error 0.227026\n",
      "Epoch 980: Error 0.227018\n",
      "Epoch 990: Error 0.227010\n"
     ]
    }
   ],
   "source": [
    "# Size of layers\n",
    "hidden_nodes1 = 8\n",
    "hidden_nodes2 = 6\n",
    "\n",
    "#np.random.seed(42)  # For reproducibility\n",
    "X = np.random.rand(100, 5)  # 100 samples, 5 features\n",
    "y = np.random.rand(100, 1)  # 100 samples, 1 output\n",
    "\n",
    "# Hyperparameters\n",
    "epochs = 1000\n",
    "lr = 0.1  # Learning rate\n",
    "\n",
    "ws_1 = np.random.rand(X.shape[1], hidden_nodes1) - 0.5\n",
    "ws_2 = np.random.rand(hidden_nodes1, hidden_nodes2) - 0.5\n",
    "ws_3 = np.random.rand(hidden_nodes2, y.shape[1]) - 0.5\n",
    "\n",
    "for epoch in range(epochs): #number of training iterations, or times to change the weights of the nn\n",
    "    for i in range(X.shape[0]): #for all samples in X, each streetlight\n",
    "        layer_in = X[i:i+1]\n",
    "        \n",
    "        #forward pass/prediction\n",
    "        layer_1 = Sigmoid(layer_in.dot(ws_1))\n",
    "        layer_2 = Sigmoid(layer_1.dot(ws_2))\n",
    "        layer_out = layer_2.dot(ws_3)\n",
    "\n",
    "        #calc error/distance (how far are we from goal)\n",
    "        delta_out = layer_out - y[i:i+1]\n",
    "        \n",
    "        #calc error/distance (how far are we from goal)\n",
    "        delta_2 = delta_out.dot(ws_3.T) * Sigmoid_grad(layer_2)\n",
    "        \n",
    "        #calc the the error each node in prev layer contributed\n",
    "        delta_1 = delta_2.dot(ws_2.T) * Sigmoid_grad(layer_1)\n",
    "        \n",
    "        #update weights\n",
    "        ws_3 -= lr * (layer_2.T.reshape(hidden_nodes2,1).dot(delta_out))\n",
    "        ws_2 -= lr * (layer_1.T.reshape(hidden_nodes1,1).dot(delta_2))\n",
    "        ws_1 -= lr * (layer_in.T.reshape(X.shape[1],1).dot(delta_1))\n",
    "    \n",
    "    if epoch % 10 == 0:\n",
    "        error = np.mean(delta_out**2)\n",
    "        print(f'Epoch {epoch}: Error {error:.6f}')"
   ]
  },
  {
   "cell_type": "markdown",
   "metadata": {},
   "source": [
    "Adding another hidden layer can improve performance by capturing more complex patterns. However, it also increases complexity, leading to longer training times and a higher risk of overfitting. You'll need to adjust the learning rate and possibly increase epochs to effectively train the deeper network."
   ]
  },
  {
   "cell_type": "markdown",
   "metadata": {},
   "source": [
    "Task 4: Including an activation functions at various stages"
   ]
  },
  {
   "cell_type": "markdown",
   "metadata": {},
   "source": [
    "Case (a): Activation function after hidden layer 1 only"
   ]
  },
  {
   "cell_type": "code",
   "execution_count": 15,
   "metadata": {},
   "outputs": [
    {
     "name": "stdout",
     "output_type": "stream",
     "text": [
      "Epoch 0: Error 0.175893\n",
      "Epoch 10: Error 0.141324\n"
     ]
    }
   ],
   "source": [
    "# Size of layers\n",
    "hidden_nodes1 = 8\n",
    "hidden_nodes2 = 6\n",
    "# Hyperparameters\n",
    "epochs = 20\n",
    "\n",
    "ws_1 = np.random.rand(X.shape[1], hidden_nodes1) - 0.5\n",
    "ws_2 = np.random.rand(hidden_nodes1, hidden_nodes2) - 0.5\n",
    "ws_3 = np.random.rand(hidden_nodes2, y.shape[1]) - 0.5\n",
    "\n",
    "for epoch in range(epochs):\n",
    "    for i in range(X.shape[0]):\n",
    "        layer_in = X[i:i+1]\n",
    "        \n",
    "        # Apply activation after the first hidden layer only\n",
    "        layer_1 = Sigmoid(layer_in.dot(ws_1)) # Activation applied here\n",
    "        layer_2 = layer_1.dot(ws_2)\n",
    "        layer_out = layer_2.dot(ws_3)\n",
    "\n",
    "        # Calculate errors and backpropagation          \n",
    "        delta_out = layer_out - y[i:i+1]\n",
    "        delta_2 = delta_out.dot(ws_3.T) * layer_2\n",
    "        delta_1 = delta_2.dot(ws_2.T) * Sigmoid_grad(layer_1)\n",
    "        \n",
    "        #update weights\n",
    "        ws_3 -= lr * layer_2.T.dot(delta_out)\n",
    "        ws_2 -= lr * layer_1.T.dot(delta_2)\n",
    "        ws_1 -= lr * layer_in.T.dot(delta_1)\n",
    "    \n",
    "    if epoch % 10 == 0:\n",
    "        error = np.mean(delta_out**2)\n",
    "        print(f'Epoch {epoch}: Error {error:.6f}')"
   ]
  },
  {
   "cell_type": "markdown",
   "metadata": {},
   "source": [
    "The second hidden layer is linear without an activation function, limiting the network's ability to model non-linear patterns. It can be removed without losing expressive power, reducing the number of weight parameters."
   ]
  },
  {
   "cell_type": "markdown",
   "metadata": {},
   "source": [
    "Case (b): Activation Function after Hidden Layer 2 Only"
   ]
  },
  {
   "cell_type": "code",
   "execution_count": 16,
   "metadata": {},
   "outputs": [
    {
     "name": "stdout",
     "output_type": "stream",
     "text": [
      "Epoch 0: Error 0.201496\n",
      "Epoch 10: Error 0.183157\n",
      "Epoch 20: Error 0.176965\n",
      "Epoch 30: Error 0.175760\n",
      "Epoch 40: Error 0.176750\n",
      "Epoch 50: Error 0.178677\n",
      "Epoch 60: Error 0.181012\n",
      "Epoch 70: Error 0.183576\n",
      "Epoch 80: Error 0.186350\n",
      "Epoch 90: Error 0.189376\n",
      "Epoch 100: Error 0.192696\n",
      "Epoch 110: Error 0.196319\n",
      "Epoch 120: Error 0.200177\n",
      "Epoch 130: Error 0.204132\n",
      "Epoch 140: Error 0.208002\n",
      "Epoch 150: Error 0.211626\n",
      "Epoch 160: Error 0.214931\n",
      "Epoch 170: Error 0.217959\n",
      "Epoch 180: Error 0.220868\n",
      "Epoch 190: Error 0.223775\n",
      "Epoch 200: Error 0.226011\n",
      "Epoch 210: Error 0.225529\n",
      "Epoch 220: Error 0.222401\n",
      "Epoch 230: Error 0.218594\n"
     ]
    }
   ],
   "source": [
    "# Size of layers\n",
    "hidden_nodes1 = 8\n",
    "hidden_nodes2 = 6\n",
    "# Hyperparameters\n",
    "epochs = 240\n",
    "\n",
    "ws_1 = np.random.rand(X.shape[1], hidden_nodes1) - 0.5\n",
    "ws_2 = np.random.rand(hidden_nodes1, hidden_nodes2) - 0.5\n",
    "ws_3 = np.random.rand(hidden_nodes2, y.shape[1]) - 0.5\n",
    "\n",
    "for epoch in range(epochs): #number of training iterations, or times to change the weights of the nn\n",
    "    for i in range(X.shape[0]): #for all samples in X, each streetlight\n",
    "        layer_in = X[i:i+1]\n",
    "        \n",
    "        #forward pass/prediction\n",
    "        layer_1 = (layer_in.dot(ws_1))\n",
    "        layer_2 = Sigmoid(layer_1.dot(ws_2)) # Activation applied here\n",
    "        layer_out = layer_2.dot(ws_3) \n",
    "\n",
    "        # Calculate errors and backpropagation\n",
    "        delta_out = layer_out - y[i:i+1]\n",
    "        delta_2 = delta_out.dot(ws_3.T) * Sigmoid_grad(layer_2)\n",
    "        delta_1 = delta_2.dot(ws_2.T) * layer_1\n",
    "        \n",
    "        #update weights\n",
    "        ws_3 -= lr * (layer_2.T.dot(delta_out))\n",
    "        ws_2 -= lr * (layer_1.T.dot(delta_2))\n",
    "        ws_1 -= lr * (layer_in.T.dot(delta_1))\n",
    "    \n",
    "    if epoch % 10 == 0:\n",
    "        error = np.mean(delta_out**2)\n",
    "        print(f'Epoch {epoch}: Error {error:.6f}')"
   ]
  },
  {
   "cell_type": "markdown",
   "metadata": {},
   "source": [
    "The first hidden layer is linear, with non-linearity only after the second. Both layers can be collapsed into one, reducing weight parameters without changing functionality."
   ]
  },
  {
   "cell_type": "markdown",
   "metadata": {},
   "source": [
    "Case (c): Activation Function after Both Hidden Layers"
   ]
  },
  {
   "cell_type": "code",
   "execution_count": 17,
   "metadata": {},
   "outputs": [
    {
     "name": "stdout",
     "output_type": "stream",
     "text": [
      "Epoch 0: Error 0.171383\n",
      "Epoch 10: Error 0.176684\n",
      "Epoch 20: Error 0.181491\n",
      "Epoch 30: Error 0.185874\n",
      "Epoch 40: Error 0.189887\n",
      "Epoch 50: Error 0.193573\n",
      "Epoch 60: Error 0.196968\n",
      "Epoch 70: Error 0.200101\n",
      "Epoch 80: Error 0.202996\n",
      "Epoch 90: Error 0.205675\n",
      "Epoch 100: Error 0.208152\n",
      "Epoch 110: Error 0.210439\n",
      "Epoch 120: Error 0.212547\n",
      "Epoch 130: Error 0.214483\n",
      "Epoch 140: Error 0.216252\n",
      "Epoch 150: Error 0.217859\n",
      "Epoch 160: Error 0.219309\n",
      "Epoch 170: Error 0.220606\n",
      "Epoch 180: Error 0.221757\n",
      "Epoch 190: Error 0.222767\n",
      "Epoch 200: Error 0.223645\n",
      "Epoch 210: Error 0.224401\n",
      "Epoch 220: Error 0.225043\n",
      "Epoch 230: Error 0.225584\n"
     ]
    }
   ],
   "source": [
    "# Size of layers\n",
    "hidden_nodes1 = 8\n",
    "hidden_nodes2 = 6\n",
    "\n",
    "ws_1 = np.random.rand(X.shape[1], hidden_nodes1) - 0.5\n",
    "ws_2 = np.random.rand(hidden_nodes1, hidden_nodes2) - 0.5\n",
    "ws_3 = np.random.rand(hidden_nodes2, y.shape[1]) - 0.5\n",
    "\n",
    "for epoch in range(epochs): #number of training iterations, or times to change the weights of the nn\n",
    "    for i in range(X.shape[0]): #for all samples in X, each streetlight\n",
    "        layer_in = X[i:i+1]\n",
    "        \n",
    "        # Apply activation after both hidden layers\n",
    "        layer_1 = Sigmoid(layer_in.dot(ws_1)) # Activation applied here\n",
    "        layer_2 = Sigmoid(layer_1.dot(ws_2)) # Activation applied here\n",
    "        layer_out = layer_2.dot(ws_3)\n",
    "\n",
    "        # Calculate errors and backpropagation\n",
    "        delta_out = layer_out - y[i:i+1]\n",
    "        delta_2 = delta_out.dot(ws_3.T) * Sigmoid_grad(layer_2)\n",
    "        delta_1 = delta_2.dot(ws_2.T) * Sigmoid_grad(layer_1)\n",
    "        \n",
    "        #update weights\n",
    "        ws_3 -= lr * (layer_2.T.dot(delta_out))\n",
    "        ws_2 -= lr * (layer_1.T.dot(delta_2))\n",
    "        ws_1 -= lr * (layer_in.T.dot(delta_1))\n",
    "    \n",
    "    if epoch % 10 == 0:\n",
    "        error = np.mean(delta_out**2)\n",
    "        print(f'Epoch {epoch}: Error {error:.6f}')"
   ]
  },
  {
   "cell_type": "markdown",
   "metadata": {},
   "source": [
    "Both hidden layers apply activation functions, making the network more capable of learning complex patterns. you could potentially reduce the number of neurons in either layer to simplify the model."
   ]
  }
 ],
 "metadata": {
  "kernelspec": {
   "display_name": ".venv",
   "language": "python",
   "name": "python3"
  },
  "language_info": {
   "codemirror_mode": {
    "name": "ipython",
    "version": 3
   },
   "file_extension": ".py",
   "mimetype": "text/x-python",
   "name": "python",
   "nbconvert_exporter": "python",
   "pygments_lexer": "ipython3",
   "version": "3.12.4"
  }
 },
 "nbformat": 4,
 "nbformat_minor": 4
}
